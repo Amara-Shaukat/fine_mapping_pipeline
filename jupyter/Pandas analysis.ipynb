{
 "cells": [
  {
   "cell_type": "markdown",
   "metadata": {},
   "source": [
    "## Use PANDAS to perform analysis."
   ]
  },
  {
   "cell_type": "code",
   "execution_count": 37,
   "metadata": {
    "collapsed": false
   },
   "outputs": [
    {
     "name": "stdout",
     "output_type": "stream",
     "text": [
      "(4314, 3)\n"
     ]
    }
   ],
   "source": [
    "import pandas as pd\n",
    "p1 = pd.read_csv(\"../big_test/0_4:9500000-10500000.EAS\", sep = \" \", header=None)\n",
    "print(p1.shape)\n",
    "p2 = pd.read_csv('../big_test/0_4:9500000-10500000.EUR', sep=\" \", header=None)\n",
    "p2[[0,2]]\n",
    "#print(p2.shape)\n",
    "\n",
    "p3 = pd.merge(p1,p2,how=\"outer\", on=0)\n",
    "#p3"
   ]
  }
 ],
 "metadata": {
  "kernelspec": {
   "display_name": "Python 3",
   "language": "python",
   "name": "python3"
  },
  "language_info": {
   "codemirror_mode": {
    "name": "ipython",
    "version": 3
   },
   "file_extension": ".py",
   "mimetype": "text/x-python",
   "name": "python",
   "nbconvert_exporter": "python",
   "pygments_lexer": "ipython3",
   "version": "3.5.1"
  }
 },
 "nbformat": 4,
 "nbformat_minor": 0
}
